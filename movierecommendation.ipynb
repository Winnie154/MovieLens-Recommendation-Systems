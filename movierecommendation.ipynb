{
 "cells": [
  {
   "cell_type": "markdown",
   "id": "9fffe00d",
   "metadata": {},
   "source": [
    "## Problem Statement\n",
    "In an age of content overload, users are also overwhelmed with too many films on streaming services. Customized recommendations would enhance user engagement and satisfaction.\n",
    "\n",
    "This project aims to build a movie recommendation system that intelligently suggests the top 5 movies a user is likely to enjoy, based on their previous movie ratings. By leveraging collaborative filtering techniques, the system will analyze user preferences and movie similarities to generate tailored suggestions"
   ]
  },
  {
   "cell_type": "markdown",
   "id": "b8658ec7",
   "metadata": {},
   "source": [
    "### Business Understanding \n",
    "#### Context\n",
    "\n",
    "Businesses like Netflix, Amazon Prime, and Hulu rely heavily on recommendation systems to keep users engaged and increase watch time. A well designed recommendation system will:\n",
    "\n",
    "1. Retain users\n",
    "\n",
    "2. Enhance user experience\n",
    "\n",
    "3. Increase revenue from subscriptions\n",
    "\n",
    "The capacity to narrow down user preferences and recommend movies will not only lead to greater customer sattisfaction;it may also contribute to improving other important business metrics, such as:\n",
    "\n",
    "1. Rate of click-through\n",
    "\n",
    "2. Time user spent on the platform \n",
    "\n",
    "3. Content discovery\n",
    "\n",
    "Having a strong recommendation engine is a competitive advantage in the entertainement industry."
   ]
  },
  {
   "cell_type": "markdown",
   "id": "b639f764",
   "metadata": {},
   "source": [
    "### Objectives\n",
    "1.\tExplore and analyze the MovieLens 100K dataset to understand user preferences and movie popularity.\n",
    "\n",
    "2.\tPerform data cleaning and exploratory data analysis (EDA).\n",
    "\n",
    "3.\tCreate a user-item interaction matrix to model the relationships between users and movies.\n",
    "\n",
    "\n",
    "4.\tImplement collaborative filtering techniques (e.g., item-based similarity) to generate recommendations.\n",
    "\n",
    "5.\tBuild a function to return the top 5 recommended movies for a specific user.\n",
    "\n",
    "6.\tEvaluate the effectiveness of the model using appropriate metrics.\n",
    "\n",
    "7.\tVisualize and interpret the results to derive meaningful business insights"
   ]
  },
  {
   "cell_type": "markdown",
   "id": "2ae8035b",
   "metadata": {},
   "source": [
    "## 1. Data Cleaning "
   ]
  },
  {
   "cell_type": "markdown",
   "id": "5461c514",
   "metadata": {},
   "source": [
    "#### 1.1 Importing Libraries"
   ]
  },
  {
   "cell_type": "code",
   "execution_count": 20,
   "id": "5a6ec6ea",
   "metadata": {},
   "outputs": [],
   "source": [
    "# import necessary libraries\n",
    "import pandas as pd\n",
    "import numpy as np\n",
    "import sys\n",
    "import sklearn\n",
    "import sklearn.metrics\n",
    "import sklearn.model_selection\n",
    "import sklearn.preprocessing\n",
    "import matplotlib.pyplot as plt\n",
    "import seaborn as sns\n",
    "import os\n"
   ]
  },
  {
   "cell_type": "markdown",
   "id": "ccb76bb0",
   "metadata": {},
   "source": [
    "#### 1.2 Load the data"
   ]
  },
  {
   "cell_type": "code",
   "execution_count": 21,
   "id": "9a67ae72",
   "metadata": {},
   "outputs": [],
   "source": [
    "movies_df = pd.read_csv('ml-latest-small/movies.csv')"
   ]
  },
  {
   "cell_type": "code",
   "execution_count": 22,
   "id": "6aa950bd",
   "metadata": {},
   "outputs": [],
   "source": [
    "ratings_df = pd.read_csv('ml-latest-small/ratings.csv')"
   ]
  },
  {
   "cell_type": "code",
   "execution_count": 23,
   "id": "8544270d",
   "metadata": {},
   "outputs": [],
   "source": [
    "links_df = pd.read_csv('ml-latest-small/links.csv')"
   ]
  },
  {
   "cell_type": "code",
   "execution_count": 24,
   "id": "504d00fb",
   "metadata": {},
   "outputs": [],
   "source": [
    "tags_df = pd.read_csv('ml-latest-small/tags.csv')"
   ]
  },
  {
   "cell_type": "markdown",
   "id": "ce4e1dac",
   "metadata": {},
   "source": [
    "#### 1.3 Checking for missing values and duplicates"
   ]
  },
  {
   "cell_type": "code",
   "execution_count": 25,
   "id": "3f7ab9b7",
   "metadata": {},
   "outputs": [
    {
     "name": "stdout",
     "output_type": "stream",
     "text": [
      "<class 'pandas.core.frame.DataFrame'>\n",
      "RangeIndex: 9742 entries, 0 to 9741\n",
      "Data columns (total 3 columns):\n",
      " #   Column   Non-Null Count  Dtype \n",
      "---  ------   --------------  ----- \n",
      " 0   movieId  9742 non-null   int64 \n",
      " 1   title    9742 non-null   object\n",
      " 2   genres   9742 non-null   object\n",
      "dtypes: int64(1), object(2)\n",
      "memory usage: 228.5+ KB\n",
      "None \n",
      "\n",
      "-------------nulls---------\n",
      "movieId    0\n",
      "title      0\n",
      "genres     0\n",
      "dtype: int64,\n",
      "\n",
      "-------------duplicates--------\n",
      "0\n"
     ]
    }
   ],
   "source": [
    " #A function to inspect the dataframe shape, datatype and missing values\n",
    "\n",
    "def inspection(Df):\n",
    "    #The datatypes and shape of each column\n",
    "    info=Df.info()\n",
    "    #The nulls in the dataset\n",
    "    nulls=Df.isnull().sum()\n",
    "    #Checking for duplicates\n",
    "    duplicate=Df.duplicated().sum()\n",
    "    return info,nulls,duplicate\n",
    "info,nulls,duplicate=inspection(movies_df)\n",
    "print(info,'\\n')\n",
    "print(f'-------------nulls---------\\n{nulls},\\n')\n",
    "print(f'-------------duplicates--------\\n{duplicate}')"
   ]
  },
  {
   "cell_type": "code",
   "execution_count": 26,
   "id": "a8daf540",
   "metadata": {},
   "outputs": [
    {
     "name": "stdout",
     "output_type": "stream",
     "text": [
      "<class 'pandas.core.frame.DataFrame'>\n",
      "RangeIndex: 100836 entries, 0 to 100835\n",
      "Data columns (total 4 columns):\n",
      " #   Column     Non-Null Count   Dtype  \n",
      "---  ------     --------------   -----  \n",
      " 0   userId     100836 non-null  int64  \n",
      " 1   movieId    100836 non-null  int64  \n",
      " 2   rating     100836 non-null  float64\n",
      " 3   timestamp  100836 non-null  int64  \n",
      "dtypes: float64(1), int64(3)\n",
      "memory usage: 3.1 MB\n",
      "None \n",
      "\n",
      "-------------nulls---------\n",
      "userId       0\n",
      "movieId      0\n",
      "rating       0\n",
      "timestamp    0\n",
      "dtype: int64,\n",
      "\n",
      "-------------duplicates--------\n",
      "0\n"
     ]
    }
   ],
   "source": [
    "# A function to inspect the dataframe shape, datatype and missing values for ratings_df\n",
    "def inspection(Df):\n",
    "    #The datatypes and shape of each column\n",
    "    info=Df.info()\n",
    "    #The nulls in the dataset\n",
    "    nulls=Df.isnull().sum()\n",
    "    #Checking for duplicates\n",
    "    duplicate=Df.duplicated().sum()\n",
    "    return info,nulls,duplicate\n",
    "info,nulls,duplicate=inspection(ratings_df)\n",
    "print(info,'\\n')\n",
    "print(f'-------------nulls---------\\n{nulls},\\n')\n",
    "print(f'-------------duplicates--------\\n{duplicate}')"
   ]
  },
  {
   "cell_type": "code",
   "execution_count": 27,
   "id": "c00b4c53",
   "metadata": {},
   "outputs": [
    {
     "name": "stdout",
     "output_type": "stream",
     "text": [
      "<class 'pandas.core.frame.DataFrame'>\n",
      "RangeIndex: 3683 entries, 0 to 3682\n",
      "Data columns (total 4 columns):\n",
      " #   Column     Non-Null Count  Dtype \n",
      "---  ------     --------------  ----- \n",
      " 0   userId     3683 non-null   int64 \n",
      " 1   movieId    3683 non-null   int64 \n",
      " 2   tag        3683 non-null   object\n",
      " 3   timestamp  3683 non-null   int64 \n",
      "dtypes: int64(3), object(1)\n",
      "memory usage: 115.2+ KB\n",
      "None \n",
      "\n",
      "-------------nulls---------\n",
      "userId       0\n",
      "movieId      0\n",
      "tag          0\n",
      "timestamp    0\n",
      "dtype: int64,\n",
      "\n",
      "-------------duplicates--------\n",
      "0\n"
     ]
    }
   ],
   "source": [
    "# A function to inspect the dataframe shape, datatype and missing values\n",
    "def inspection(Df):\n",
    "    #The datatypes and shape of each column\n",
    "    info=Df.info()\n",
    "    #The nulls in the dataset\n",
    "    nulls=Df.isnull().sum()\n",
    "    #Checking for duplicates\n",
    "    duplicate=Df.duplicated().sum()\n",
    "    return info,nulls,duplicate\n",
    "info,nulls,duplicate=inspection(tags_df)\n",
    "print(info,'\\n')\n",
    "print(f'-------------nulls---------\\n{nulls},\\n')\n",
    "print(f'-------------duplicates--------\\n{duplicate}')"
   ]
  },
  {
   "cell_type": "code",
   "execution_count": 28,
   "id": "731226dc",
   "metadata": {},
   "outputs": [
    {
     "name": "stdout",
     "output_type": "stream",
     "text": [
      "<class 'pandas.core.frame.DataFrame'>\n",
      "RangeIndex: 9742 entries, 0 to 9741\n",
      "Data columns (total 3 columns):\n",
      " #   Column   Non-Null Count  Dtype  \n",
      "---  ------   --------------  -----  \n",
      " 0   movieId  9742 non-null   int64  \n",
      " 1   imdbId   9742 non-null   int64  \n",
      " 2   tmdbId   9734 non-null   float64\n",
      "dtypes: float64(1), int64(2)\n",
      "memory usage: 228.5 KB\n",
      "None \n",
      "\n",
      "-------------nulls---------\n",
      "movieId    0\n",
      "imdbId     0\n",
      "tmdbId     8\n",
      "dtype: int64,\n",
      "\n",
      "-------------duplicates--------\n",
      "0\n"
     ]
    }
   ],
   "source": [
    "def inspection(Df):\n",
    "    #The datatypes and shape of each column\n",
    "    info=Df.info()\n",
    "    #The nulls in the dataset\n",
    "    nulls=Df.isnull().sum()\n",
    "    #Checking for duplicates\n",
    "    duplicate=Df.duplicated().sum()\n",
    "    return info,nulls,duplicate\n",
    "info,nulls,duplicate=inspection(links_df)\n",
    "print(info,'\\n')\n",
    "print(f'-------------nulls---------\\n{nulls},\\n')\n",
    "print(f'-------------duplicates--------\\n{duplicate}')"
   ]
  },
  {
   "cell_type": "markdown",
   "id": "65fdc9bf",
   "metadata": {},
   "source": [
    "#### 1.4 Dropping the missing values"
   ]
  },
  {
   "cell_type": "code",
   "execution_count": 29,
   "id": "3d1ed7bc",
   "metadata": {},
   "outputs": [
    {
     "name": "stdout",
     "output_type": "stream",
     "text": [
      "<class 'pandas.core.frame.DataFrame'>\n",
      "Index: 9734 entries, 0 to 9741\n",
      "Data columns (total 3 columns):\n",
      " #   Column   Non-Null Count  Dtype  \n",
      "---  ------   --------------  -----  \n",
      " 0   movieId  9734 non-null   int64  \n",
      " 1   imdbId   9734 non-null   int64  \n",
      " 2   tmdbId   9734 non-null   float64\n",
      "dtypes: float64(1), int64(2)\n",
      "memory usage: 304.2 KB\n"
     ]
    }
   ],
   "source": [
    "# Cleaning the links dataframe to remove rows with NaN values in 'tmdbId'\n",
    "links_cleaned = links_df.dropna(subset=['tmdbId'])\n",
    "links_cleaned.info()"
   ]
  },
  {
   "cell_type": "markdown",
   "id": "5d50fd28",
   "metadata": {},
   "source": [
    "#### 1.5 Merging movies and ratings dataframes"
   ]
  },
  {
   "cell_type": "code",
   "execution_count": 30,
   "id": "e6f534e4",
   "metadata": {},
   "outputs": [
    {
     "data": {
      "text/html": [
       "<div>\n",
       "<style scoped>\n",
       "    .dataframe tbody tr th:only-of-type {\n",
       "        vertical-align: middle;\n",
       "    }\n",
       "\n",
       "    .dataframe tbody tr th {\n",
       "        vertical-align: top;\n",
       "    }\n",
       "\n",
       "    .dataframe thead th {\n",
       "        text-align: right;\n",
       "    }\n",
       "</style>\n",
       "<table border=\"1\" class=\"dataframe\">\n",
       "  <thead>\n",
       "    <tr style=\"text-align: right;\">\n",
       "      <th></th>\n",
       "      <th>movieId</th>\n",
       "      <th>title</th>\n",
       "      <th>genres</th>\n",
       "      <th>userId</th>\n",
       "      <th>rating</th>\n",
       "      <th>timestamp</th>\n",
       "    </tr>\n",
       "  </thead>\n",
       "  <tbody>\n",
       "    <tr>\n",
       "      <th>0</th>\n",
       "      <td>1</td>\n",
       "      <td>Toy Story (1995)</td>\n",
       "      <td>Adventure|Animation|Children|Comedy|Fantasy</td>\n",
       "      <td>1.0</td>\n",
       "      <td>4.0</td>\n",
       "      <td>9.649827e+08</td>\n",
       "    </tr>\n",
       "    <tr>\n",
       "      <th>1</th>\n",
       "      <td>1</td>\n",
       "      <td>Toy Story (1995)</td>\n",
       "      <td>Adventure|Animation|Children|Comedy|Fantasy</td>\n",
       "      <td>5.0</td>\n",
       "      <td>4.0</td>\n",
       "      <td>8.474350e+08</td>\n",
       "    </tr>\n",
       "    <tr>\n",
       "      <th>2</th>\n",
       "      <td>1</td>\n",
       "      <td>Toy Story (1995)</td>\n",
       "      <td>Adventure|Animation|Children|Comedy|Fantasy</td>\n",
       "      <td>7.0</td>\n",
       "      <td>4.5</td>\n",
       "      <td>1.106636e+09</td>\n",
       "    </tr>\n",
       "    <tr>\n",
       "      <th>3</th>\n",
       "      <td>1</td>\n",
       "      <td>Toy Story (1995)</td>\n",
       "      <td>Adventure|Animation|Children|Comedy|Fantasy</td>\n",
       "      <td>15.0</td>\n",
       "      <td>2.5</td>\n",
       "      <td>1.510578e+09</td>\n",
       "    </tr>\n",
       "    <tr>\n",
       "      <th>4</th>\n",
       "      <td>1</td>\n",
       "      <td>Toy Story (1995)</td>\n",
       "      <td>Adventure|Animation|Children|Comedy|Fantasy</td>\n",
       "      <td>17.0</td>\n",
       "      <td>4.5</td>\n",
       "      <td>1.305696e+09</td>\n",
       "    </tr>\n",
       "  </tbody>\n",
       "</table>\n",
       "</div>"
      ],
      "text/plain": [
       "   movieId             title                                       genres  \\\n",
       "0        1  Toy Story (1995)  Adventure|Animation|Children|Comedy|Fantasy   \n",
       "1        1  Toy Story (1995)  Adventure|Animation|Children|Comedy|Fantasy   \n",
       "2        1  Toy Story (1995)  Adventure|Animation|Children|Comedy|Fantasy   \n",
       "3        1  Toy Story (1995)  Adventure|Animation|Children|Comedy|Fantasy   \n",
       "4        1  Toy Story (1995)  Adventure|Animation|Children|Comedy|Fantasy   \n",
       "\n",
       "   userId  rating     timestamp  \n",
       "0     1.0     4.0  9.649827e+08  \n",
       "1     5.0     4.0  8.474350e+08  \n",
       "2     7.0     4.5  1.106636e+09  \n",
       "3    15.0     2.5  1.510578e+09  \n",
       "4    17.0     4.5  1.305696e+09  "
      ]
     },
     "execution_count": 30,
     "metadata": {},
     "output_type": "execute_result"
    }
   ],
   "source": [
    "# Merging the movies dataframe with the ratings dataframe on 'movieId'\n",
    "merged_df = pd.merge(movies_df, ratings_df, on='movieId', how='left')\n",
    "merged_df.head()"
   ]
  },
  {
   "cell_type": "markdown",
   "id": "3df67788",
   "metadata": {},
   "source": [
    "## 2.Exploratory Data Analysis(EDA) "
   ]
  },
  {
   "cell_type": "markdown",
   "id": "d9e6fcf5",
   "metadata": {},
   "source": [
    "### 2.1 Descriptive Statistics"
   ]
  },
  {
   "cell_type": "code",
   "execution_count": 31,
   "id": "db57dd4c",
   "metadata": {},
   "outputs": [
    {
     "data": {
      "text/html": [
       "<div>\n",
       "<style scoped>\n",
       "    .dataframe tbody tr th:only-of-type {\n",
       "        vertical-align: middle;\n",
       "    }\n",
       "\n",
       "    .dataframe tbody tr th {\n",
       "        vertical-align: top;\n",
       "    }\n",
       "\n",
       "    .dataframe thead th {\n",
       "        text-align: right;\n",
       "    }\n",
       "</style>\n",
       "<table border=\"1\" class=\"dataframe\">\n",
       "  <thead>\n",
       "    <tr style=\"text-align: right;\">\n",
       "      <th></th>\n",
       "      <th>movieId</th>\n",
       "      <th>userId</th>\n",
       "      <th>rating</th>\n",
       "      <th>timestamp</th>\n",
       "    </tr>\n",
       "  </thead>\n",
       "  <tbody>\n",
       "    <tr>\n",
       "      <th>count</th>\n",
       "      <td>100854.000000</td>\n",
       "      <td>100836.000000</td>\n",
       "      <td>100836.000000</td>\n",
       "      <td>1.008360e+05</td>\n",
       "    </tr>\n",
       "    <tr>\n",
       "      <th>mean</th>\n",
       "      <td>19435.051728</td>\n",
       "      <td>326.127564</td>\n",
       "      <td>3.501557</td>\n",
       "      <td>1.205946e+09</td>\n",
       "    </tr>\n",
       "    <tr>\n",
       "      <th>std</th>\n",
       "      <td>35528.850950</td>\n",
       "      <td>182.618491</td>\n",
       "      <td>1.042529</td>\n",
       "      <td>2.162610e+08</td>\n",
       "    </tr>\n",
       "    <tr>\n",
       "      <th>min</th>\n",
       "      <td>1.000000</td>\n",
       "      <td>1.000000</td>\n",
       "      <td>0.500000</td>\n",
       "      <td>8.281246e+08</td>\n",
       "    </tr>\n",
       "    <tr>\n",
       "      <th>25%</th>\n",
       "      <td>1199.000000</td>\n",
       "      <td>177.000000</td>\n",
       "      <td>3.000000</td>\n",
       "      <td>1.019124e+09</td>\n",
       "    </tr>\n",
       "    <tr>\n",
       "      <th>50%</th>\n",
       "      <td>2991.000000</td>\n",
       "      <td>325.000000</td>\n",
       "      <td>3.500000</td>\n",
       "      <td>1.186087e+09</td>\n",
       "    </tr>\n",
       "    <tr>\n",
       "      <th>75%</th>\n",
       "      <td>8128.000000</td>\n",
       "      <td>477.000000</td>\n",
       "      <td>4.000000</td>\n",
       "      <td>1.435994e+09</td>\n",
       "    </tr>\n",
       "    <tr>\n",
       "      <th>max</th>\n",
       "      <td>193609.000000</td>\n",
       "      <td>610.000000</td>\n",
       "      <td>5.000000</td>\n",
       "      <td>1.537799e+09</td>\n",
       "    </tr>\n",
       "  </tbody>\n",
       "</table>\n",
       "</div>"
      ],
      "text/plain": [
       "             movieId         userId         rating     timestamp\n",
       "count  100854.000000  100836.000000  100836.000000  1.008360e+05\n",
       "mean    19435.051728     326.127564       3.501557  1.205946e+09\n",
       "std     35528.850950     182.618491       1.042529  2.162610e+08\n",
       "min         1.000000       1.000000       0.500000  8.281246e+08\n",
       "25%      1199.000000     177.000000       3.000000  1.019124e+09\n",
       "50%      2991.000000     325.000000       3.500000  1.186087e+09\n",
       "75%      8128.000000     477.000000       4.000000  1.435994e+09\n",
       "max    193609.000000     610.000000       5.000000  1.537799e+09"
      ]
     },
     "execution_count": 31,
     "metadata": {},
     "output_type": "execute_result"
    }
   ],
   "source": [
    "# describing the merged dataframe to get an overview of its statistics\n",
    "merged_df.describe()"
   ]
  },
  {
   "cell_type": "markdown",
   "id": "1f834e01",
   "metadata": {},
   "source": [
    "### 2.2 Number of Users and Movies"
   ]
  },
  {
   "cell_type": "code",
   "execution_count": 32,
   "id": "2da37869",
   "metadata": {},
   "outputs": [
    {
     "name": "stdout",
     "output_type": "stream",
     "text": [
      "Number of unique movies: 9742\n",
      "Number of unique users: 610\n"
     ]
    }
   ],
   "source": [
    "# Getting the number of unique movies and users in the merged dataframe\n",
    "# This will help in understanding the scale of the dataset\n",
    "num_movies = merged_df['movieId'].nunique()\n",
    "num_users = merged_df['userId'].nunique()\n",
    "\n",
    "print(f'Number of unique movies: {num_movies}')\n",
    "print(f'Number of unique users: {num_users}')"
   ]
  },
  {
   "cell_type": "markdown",
   "id": "96e61cd8",
   "metadata": {},
   "source": [
    "#### 2.3 Univariate Analysis\n",
    "##### 2.3.1 Ratings Distribution"
   ]
  },
  {
   "cell_type": "code",
   "execution_count": 33,
   "id": "f1683b51",
   "metadata": {},
   "outputs": [
    {
     "name": "stderr",
     "output_type": "stream",
     "text": [
      "C:\\Users\\User\\AppData\\Local\\Temp\\ipykernel_14516\\2235423747.py:3: FutureWarning: \n",
      "\n",
      "Passing `palette` without assigning `hue` is deprecated and will be removed in v0.14.0. Assign the `x` variable to `hue` and set `legend=False` for the same effect.\n",
      "\n",
      "  sns.countplot(x='rating', data=merged_df, palette='viridis')\n"
     ]
    },
    {
     "data": {
      "image/png": "[encoded data removed]",
      "text/plain": [
       "<Figure size 1000x600 with 1 Axes>"
      ]
     },
     "metadata": {},
     "output_type": "display_data"
    }
   ],
   "source": [
    "# plotting the distribution of ratings\n",
    "plt.figure(figsize=(10, 6))\n",
    "sns.countplot(x='rating', data=merged_df, palette='viridis')\n",
    "plt.title('Distribution of Movie Ratings')\n",
    "plt.xlabel('Rating')\n",
    "plt.ylabel('Count')\n",
    "plt.show()"
   ]
  },
  {
   "cell_type": "markdown",
   "id": "80fdccfd",
   "metadata": {},
   "source": [
    "## Observation \n",
    "From the visualization above we observe that 4.0 is the highest rating while 0.5 is the lowest rating.\n",
    "We also observe most movies are rated 3.0 and above."
   ]
  },
  {
   "cell_type": "markdown",
   "id": "54650ea5",
   "metadata": {},
   "source": [
    "##### 2.3.2 Genre Distribution"
   ]
  },
  {
   "cell_type": "code",
   "execution_count": 34,
   "id": "cd58ccfd",
   "metadata": {},
   "outputs": [
    {
     "name": "stderr",
     "output_type": "stream",
     "text": [
      "C:\\Users\\User\\AppData\\Local\\Temp\\ipykernel_14516\\2062112202.py:3: FutureWarning: \n",
      "\n",
      "Passing `palette` without assigning `hue` is deprecated and will be removed in v0.14.0. Assign the `x` variable to `hue` and set `legend=False` for the same effect.\n",
      "\n",
      "  sns.barplot(x=top_genres.index, y=top_genres.values, palette='viridis')\n"
     ]
    },
    {
     "data": {
      "image/png": "[encoded data removed]",
      "text/plain": [
       "<Figure size 1200x800 with 1 Axes>"
      ]
     },
     "metadata": {},
     "output_type": "display_data"
    }
   ],
   "source": [
    "top_genres = merged_df['genres'].str.get_dummies(sep='|').sum().sort_values(ascending=False).head(10)\n",
    "plt.figure(figsize=(12, 8))\n",
    "sns.barplot(x=top_genres.index, y=top_genres.values, palette='viridis')\n",
    "plt.title('Top 10 Movie Genres')\n",
    "plt.xlabel('Genre')\n",
    "plt.ylabel('Count')\n",
    "plt.show()"
   ]
  },
  {
   "cell_type": "markdown",
   "id": "85542679",
   "metadata": {},
   "source": [
    "## Observation\n",
    "Within the dataset, the Drama genre is the most prevalent, with over 42,000 entries, followed by Comedy and Action. These three genres overwhelmingly dominate the dataset, suggesting a strong preference or availability for these genres. However, genres such as Crime, Fantasy, and Children have significantly fewer entries, and may hinder the case of diversity and balance in recommendations."
   ]
  },
  {
   "cell_type": "markdown",
   "id": "53bce2ac",
   "metadata": {},
   "source": [
    "#### 2.4 Bivariate Analysis\n",
    "##### 2.4.1 Average Ratings by Genres"
   ]
  },
  {
   "cell_type": "code",
   "execution_count": 35,
   "id": "8be7036a",
   "metadata": {},
   "outputs": [
    {
     "name": "stderr",
     "output_type": "stream",
     "text": [
      "C:\\Users\\User\\AppData\\Local\\Temp\\ipykernel_14516\\1371310661.py:16: FutureWarning: \n",
      "\n",
      "Passing `palette` without assigning `hue` is deprecated and will be removed in v0.14.0. Assign the `x` variable to `hue` and set `legend=False` for the same effect.\n",
      "\n",
      "  sns.barplot(x=genre_ratings.index, y=genre_ratings.values, palette='viridis')\n"
     ]
    },
    {
     "data": {
      "image/png": "[encoded data removed]",
      "text/plain": [
       "<Figure size 1200x800 with 1 Axes>"
      ]
     },
     "metadata": {},
     "output_type": "display_data"
    }
   ],
   "source": [
    "# Create one-hot encoded genre columns\n",
    "genre_dummies = merged_df['genres'].str.get_dummies(sep='|')\n",
    "\n",
    "# Combine with merged_df to get ratings and genres together\n",
    "ratings_with_genres = pd.concat([merged_df[['movieId', 'title', 'rating']], genre_dummies], axis=1)\n",
    "\n",
    "# plotting ratings by genre\n",
    "melted = ratings_with_genres.melt(\n",
    "\tid_vars=['movieId', 'title', 'rating'],\n",
    "\tvalue_vars=top_genres.index.tolist(),\n",
    "\tvar_name='genre',\n",
    "\tvalue_name='is_genre'\n",
    ")\n",
    "genre_ratings = melted[melted['is_genre'] == 1].groupby('genre')['rating'].mean().sort_values(ascending=False)\n",
    "plt.figure(figsize=(12, 8))\n",
    "sns.barplot(x=genre_ratings.index, y=genre_ratings.values, palette='viridis')\n",
    "plt.title('Average Ratings by Genre')\n",
    "plt.xlabel('Genre')\n",
    "plt.ylabel('Average Rating')\n",
    "plt.show()"
   ]
  },
  {
   "cell_type": "markdown",
   "id": "0f1b52c6",
   "metadata": {},
   "source": [
    "## Observation\n",
    "Comparing the averages of the genres, Crime and Drama have the highest average ratings at both just above 3.5, suggesting that users are more likely to appreciate serious, story-driven content. In comparison, genres such as Children, Comedy, and Animation have average ratings closer to 3.0, suggesting that these types of movies have more specific tastes or are rated more harshly. This information can help inform the recommendation system so that genre preferences are treated differently when making high-rated movie recommendations"
   ]
  },
  {
   "cell_type": "markdown",
   "id": "7b0b2e61",
   "metadata": {},
   "source": [
    "##### 2.4.2 Ratings vs Number of Ratings"
   ]
  },
  {
   "cell_type": "code",
   "execution_count": 36,
   "id": "7978902c",
   "metadata": {},
   "outputs": [
    {
     "data": {
      "text/plain": [
       "Text(0, 0.5, 'Frequency')"
      ]
     },
     "execution_count": 36,
     "metadata": {},
     "output_type": "execute_result"
    },
    {
     "data": {
      "image/png": "[encoded data removed]",
      "text/plain": [
       "<Figure size 1000x600 with 1 Axes>"
      ]
     },
     "metadata": {},
     "output_type": "display_data"
    }
   ],
   "source": [
    "# Analyzing the average ratings for each movie\n",
    "# Grouping by 'movieId' and calculating the mean and count of ratings\n",
    "movie_stats = merged_df.groupby('movieId').agg({\n",
    "    'rating': ['mean', 'count']})\n",
    "movie_stats.columns = ['mean_rating', 'rating_count']\n",
    "\n",
    "# plotting the distribution of average ratings\n",
    "plt.figure(figsize=(10, 6))\n",
    "sns.histplot(movie_stats['mean_rating'], bins=30, kde=True, color='blue')\n",
    "plt.title('Distribution of Average Movie Ratings')\n",
    "plt.xlabel('Average Rating')\n",
    "plt.ylabel('Frequency')\n"
   ]
  },
  {
   "cell_type": "markdown",
   "id": "3ea411d5",
   "metadata": {},
   "source": [
    "## Observation\n",
    "The distribution of the average movie ratings is slightly positively skewed, where most movies average ratings between a rating of 3.0 and 4.0. The peak rating appears to be around a rating of 3.5. Therefore, there was seen to be a level of positivity when rating movies, but there were clearly few average ratings at either end of the scale. There may have been a tendency for users to not use an extreme score unless they felt strongly about a movie, which drives most users average ratings toward the middle"
   ]
  }
 ],
 "metadata": {
  "kernelspec": {
   "display_name": "base",
   "language": "python",
   "name": "python3"
  },
  "language_info": {
   "codemirror_mode": {
    "name": "ipython",
    "version": 3
   },
   "file_extension": ".py",
   "mimetype": "text/x-python",
   "name": "python",
   "nbconvert_exporter": "python",
   "pygments_lexer": "ipython3",
   "version": "3.12.4"
  }
 },
 "nbformat": 4,
 "nbformat_minor": 5
}
